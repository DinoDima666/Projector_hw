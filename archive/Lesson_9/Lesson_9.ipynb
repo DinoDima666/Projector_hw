{
 "cells": [
  {
   "cell_type": "markdown",
   "metadata": {},
   "source": [
    "# How to pick right data structure. "
   ]
  },
  {
   "cell_type": "markdown",
   "metadata": {},
   "source": [
    "To pick right data structure, we need to understand what data we will store there and operations that we will perform on it. To optimize the program, we should understand time that will take some operations for each data structure."
   ]
  },
  {
   "attachments": {},
   "cell_type": "markdown",
   "metadata": {},
   "source": [
    "## How to compare data structures\n",
    "\n",
    "To be able to compare, we should be able to measure time of some operations. Unfortunately, we can't measure one time because every machine is different and every time we run the program, it will take different time. Therefore in computer science, we use amount of operation or complexity of the operation."
   ]
  },
  {
   "attachments": {},
   "cell_type": "markdown",
   "metadata": {},
   "source": [
    "In computer science, the notation \"O(n)\" refers to the asymptotic time complexity of an algorithm, which indicates how the running time of the algorithm scales with the input size. Specifically, O(n) means that the running time of the algorithm grows linearly with the input size n.\n",
    "\n",
    "![O(n) complexity](images/O(n).png)\n",
    "\n",
    "This means that if an algorithm has O(n) time complexity, then the running time of the algorithm will increase proportionally to the size of the input data. For example, if an algorithm takes 1 second to process 10 data items, it will take roughly 10 seconds to process 100 data items, and 100 seconds to process 1000 data items, assuming the input data is of similar nature."
   ]
  },
  {
   "attachments": {},
   "cell_type": "markdown",
   "metadata": {},
   "source": [
    "## How list works"
   ]
  },
  {
   "attachments": {},
   "cell_type": "markdown",
   "metadata": {},
   "source": [
    "What happens when you create a list\n",
    "\n",
    "```python\n",
    "my_list = [1, 2, 3]\n",
    "```\n",
    "\n",
    "Python allocates constant amount of space event for empty list, amount of the allocated space is might be bigger than size of the list. Also, python saves save the size of the element to have quick access to this value.\n",
    "\n",
    "In complexity terms we call it constant time - **O(1)**. It means that time of execution doesn`t depend on the size of the list or any other parameter.\n",
    "\n",
    "![List](images/list_memory.png)"
   ]
  },
  {
   "attachments": {},
   "cell_type": "markdown",
   "metadata": {},
   "source": [
    "### Indexing\n",
    "\n",
    "To find an element python need constant time because we know where is the first cell, size of the cell and index of the element. Due to all this things, we can multiply cell_size on index and we will find element that we need. Complexity is **O(1)**.\n"
   ]
  },
  {
   "cell_type": "markdown",
   "metadata": {},
   "source": [
    "**Question** - how can we know an offset if list contains different data types?"
   ]
  },
  {
   "attachments": {},
   "cell_type": "markdown",
   "metadata": {},
   "source": [
    "### Append\n",
    "\n",
    "![Append](images/python-append.png)\n",
    "\n",
    "1. Easy case - find empty space in the memory that was allocated for the list and add the element for the first empty cell. After that, you should increase the size of the list.\n",
    "2. Hard case - you don`t have empty space in the memory, you need to allocate more memory for the list.\n",
    "    1. You should allocate more memory for the list. Python use next pattern: 0, 4, 8, 16, 25, 35, 46, 58, 72, 88, … After Python adds empty cells, it copies all the elements from the old list to the new list. At the end it should change pointer to the new list. After that steps we jump to the first case. \n",
    "\n",
    "In this case we understand that python need more time to execute this operation. It needs to copy paste all values one by one therefore the complexity here is - **O(n)** "
   ]
  },
  {
   "cell_type": "markdown",
   "metadata": {},
   "source": [
    "### Insert\n",
    "\n",
    "1. Let`s take a look at the code:\n",
    "\n",
    "```python\n",
    "my_list = [1, 2, 3]\n",
    "my_list.insert(3, 4)\n",
    "``` \n",
    "\n",
    "To execute this operation Python should add 4 at the end of list if list has empty cells. If not, we should allocate additional memory for the list like we did it in the previous case. \n",
    "Complexity - **O(1)**. \n",
    "\n",
    "2. Also, you might to insert element at the beginning of the list: \n",
    "\n",
    "```python\n",
    "my_list = [1, 2, 3]\n",
    "my_list.insert(0, 4)\n",
    "``` \n",
    "\n",
    "To do that Python needs shift all elements in the list to the right. After that we can insert element at the beginning of the list. Complexity - **O(n)**. Here complexity depends from amount of elements in the list.\n",
    " "
   ]
  },
  {
   "cell_type": "markdown",
   "metadata": {},
   "source": [
    "### Find\n",
    "\n",
    "Here Python should iterate over the list until it finds the right element. Complexity - **O(n)**."
   ]
  },
  {
   "cell_type": "markdown",
   "metadata": {},
   "source": [
    "## Tuple\n",
    "\n",
    "Tuple is a bit easier to understand. It is a list that can`t be changed. So here is the same complexity for same operation with list. "
   ]
  },
  {
   "attachments": {},
   "cell_type": "markdown",
   "metadata": {},
   "source": [
    "## Dictionary\n",
    "\n",
    "### Hash function\n",
    "\n",
    "What is a hash function? \n",
    "\n",
    "Hash function is a function that takes an object (such as a string, integer, or tuple) and returns a fixed-size integer, which is used as the key in a hash table. The hash value is a integer that is unique for each value, and is used by Python to store the key-value pair in the hash table.\n",
    "\n",
    "In general, a good hash function should be fast to compute and should produce a uniform distribution of hash values across the range of possible keys.\n",
    "\n",
    "**Example in security (md5, sha/2)**\n",
    "\n",
    "What is meant by Good Hash Function? \n",
    "\n",
    "A good hash function should have the following properties: \n",
    "\n",
    "    1. Efficiently computable.\n",
    "    \n",
    "    2. Should uniformly distribute the keys (Each table position equally likely for each key)\n",
    "\n",
    "    3. Should return the same output for the same input.\n",
    "\n",
    "For example: For phone numbers, a bad hash function is to take the first three digits. A better function is considered the last three digits. A good hash function is to take the last four digits and then take the modulo of the number with the size of the hash table."
   ]
  },
  {
   "cell_type": "code",
   "execution_count": null,
   "metadata": {},
   "outputs": [],
   "source": [
    "def example_of_hash_function(value):\n",
    "    return 10"
   ]
  },
  {
   "cell_type": "code",
   "execution_count": null,
   "metadata": {},
   "outputs": [],
   "source": [
    "hash(3.14)"
   ]
  },
  {
   "cell_type": "code",
   "execution_count": null,
   "metadata": {},
   "outputs": [],
   "source": [
    "hash(\"Lorem ipsum dolor sit amet, consectetur adipisicing elit\")"
   ]
  },
  {
   "cell_type": "code",
   "execution_count": null,
   "metadata": {},
   "outputs": [],
   "source": [
    "a = 1,\n",
    "hash(a)"
   ]
  },
  {
   "cell_type": "code",
   "execution_count": null,
   "metadata": {},
   "outputs": [],
   "source": [
    "hash([])"
   ]
  },
  {
   "attachments": {},
   "cell_type": "markdown",
   "metadata": {},
   "source": [
    "### Store value\n",
    "\n",
    "![Dict](images/dict_memory.png)\n",
    "\n",
    "When you create a dict, Python create a list with empty cells. This cells will be used for values that you will store in the dictionary.\n",
    "\n",
    "```python\n",
    "size = 1000\n",
    "storage = [[] for _ in range(size)]\n",
    "length = 0\n",
    "```\n",
    "\n",
    "Let`s try to save some values in the dictionary.\n",
    "\n",
    "```python\n",
    "def save_value(new_key, new_value):\n",
    "\n",
    "    storage_id = hash(new_key) % size\n",
    "\n",
    "    for old_key, old_value in storage[storage_id]:\n",
    "        if new_key == old_key:\n",
    "            old_value = new_value\n",
    "            break\n",
    "    else:\n",
    "        storage[storage_id].append([new_key, new_value])\n",
    "        length += 1\n",
    "```\n",
    "\n",
    "![Dict](images/dict_colision.png)\n",
    "\n",
    "Here we can calculate complexity of this operation:\n",
    "\n",
    "1. We need to calculate hash of the key. -> **O(1)**\n",
    "2. We need to find the right cell for the key. -> **O(1)**\n",
    "3. We need to check if the key is already in the cell. -> **O(1)** if empty list else **O(n)**\n",
    "4. We need to add new key and value to the cell. -> **O(1)**\n",
    "\n",
    "\n",
    "#### Result:\n",
    " \n",
    "1. Best complexity is **O(1)**.\n",
    "2. Average complexity is **O(1)**.\n",
    "3. Worst complexity is **O(n)**.\n"
   ]
  },
  {
   "cell_type": "markdown",
   "metadata": {},
   "source": [
    "### Get element\n",
    "\n",
    "```python\n",
    "def get_element(key):\n",
    "    storage_id = hash(key) % size\n",
    "\n",
    "    for existing_key, value in storage[storage_idx]:\n",
    "        if existing_key == key:\n",
    "            return value\n",
    "\n",
    "    raise KeyError(f'Key {key} does not exist')\n",
    "```\n",
    "\n",
    "Here we can calculate complexity of this operation:\n",
    "\n",
    "1. We need to calculate hash of the key. -> **O(1)**\n",
    "2. We need to find the right cell for the key. -> **O(1)**\n",
    "3. We need to check if the key is already in the cell. -> **O(1)** if empty list else **O(n)**\n",
    "\n",
    "#### Result:\n",
    "\n",
    "1. Best complexity is **O(1)**.\n",
    "2. Average complexity is **O(1)**.\n",
    "3. Worst complexity is **O(n)**.\n",
    "\n",
    "### Delete element\n",
    "\n",
    "```python\n",
    "def delete_element(key):\n",
    "    storage_id = hash(key) % size\n",
    "\n",
    "    for existing_key, value in storage[storage_idx]:\n",
    "        if existing_key == key:\n",
    "            storage[storage_idx].remove([existing_key, value])\n",
    "            length -= 1\n",
    "            break\n",
    "    else:\n",
    "        raise KeyError(f'Key {key} does not exist')\n",
    "```\n",
    "\n",
    "Here we can calculate complexity of this operation:\n",
    "\n",
    "1. We need to calculate hash of the key. -> **O(1)**\n",
    "2. We need to find the right cell for the key. -> **O(1)**\n",
    "3. We need to check if the key is already in the cell. -> **O(1)** if empty list else **O(n)**\n",
    "4. We need to remove key and value from the cell. -> **O(1)** if empty list else **O(n)**\n",
    "\n",
    "#### 2 * O(n) + 2 * O(1) = O(n)\n",
    "\n",
    "#### Result:\n",
    "\n",
    "1. Best complexity is **O(1)**.\n",
    "2. Average complexity is **O(1)**.\n",
    "3. Worst complexity is **O(n)**."
   ]
  },
  {
   "cell_type": "markdown",
   "metadata": {},
   "source": [
    "### Contains \n",
    "\n",
    "```python\n",
    "def contains(key):\n",
    "    storage_id = hash(key) % size\n",
    "\n",
    "    for existing_key, value in storage[storage_id]:\n",
    "        if existing_key == key:\n",
    "            return True\n",
    "\n",
    "    return False\n",
    "```\n",
    "\n",
    "Complexity:\n",
    "\n",
    "1. We need to calculate hash of the key. -> **O(1)**\n",
    "2. We need to find the right cell for the key. -> **O(1)**\n",
    "3. We need to check if the key is already in the cell. -> **O(1)** if empty list else **O(n)**\n",
    "\n",
    "#### Result:\n",
    "\n",
    "1. Best complexity is **O(1)**.\n",
    "2. Average complexity is **O(1)**.\n",
    "3. Worst complexity is **O(n)**.\n",
    "\n",
    "\n"
   ]
  },
  {
   "cell_type": "markdown",
   "metadata": {},
   "source": [
    "## Set\n",
    "\n",
    "Set is based on the same structure as dictionary. Therefore creating, adding and deleting elements has the same complexity."
   ]
  },
  {
   "cell_type": "markdown",
   "metadata": {},
   "source": [
    "## Overview\n",
    "\n",
    "**Use a list when:**\n",
    "\n",
    "1. Data has a natural order to it\n",
    "2. You will need to update or alter the data during the program\n",
    "3. The primary purpose of the data structure is iteration\n",
    " \n",
    "**Use a tuple when:**\n",
    "\n",
    "1. Data has a natural order to it\n",
    "2. You will not need to update or alter the data during the program\n",
    "3. The primary purpose of the data structure is iteration\n",
    "\n",
    "**Use a dictionary when:**\n",
    "\n",
    "1. The data is unordered, or the order does not matter\n",
    "2. You will need to update or alter the data during the program\n",
    "3. The primary purpose of the data structure is looking up values\n",
    "\n",
    "**Use a set when:**\n",
    "1. The data is unordered, or the order does not matter\n",
    "2. You will need to update or alter the data during the program.\n",
    "3. The primary purpose of the data structure is checking that values exist."
   ]
  },
  {
   "cell_type": "markdown",
   "metadata": {},
   "source": [
    "# Algorithms"
   ]
  },
  {
   "attachments": {},
   "cell_type": "markdown",
   "metadata": {},
   "source": [
    "Algorithm - it's a well-defined set of steps or instructions for solving a particular problem or accomplishing a specific task. It is a sequence of computational steps that transforms an input into an output."
   ]
  },
  {
   "cell_type": "markdown",
   "metadata": {},
   "source": [
    "### Loop\n",
    "\n",
    "```python\n",
    "for i in iteration:\n",
    "    print(i)\n",
    "```\n",
    "\n",
    "Complexity - ?"
   ]
  },
  {
   "cell_type": "markdown",
   "metadata": {},
   "source": [
    "```python\n",
    "for i in iteration:\n",
    "    print(i)\n",
    "\n",
    "for i in iteration2:\n",
    "    print(i)\n",
    "```\n",
    "\n",
    "Complexity - ?"
   ]
  },
  {
   "cell_type": "markdown",
   "metadata": {},
   "source": [
    "```python\n",
    "for i in iteration:\n",
    "    for j in iteration:\n",
    "        print(i, j)\n",
    "```\n",
    "\n",
    "Complexity - ?"
   ]
  },
  {
   "cell_type": "markdown",
   "metadata": {},
   "source": [
    "```python\n",
    "for i in iteration:\n",
    "    for j in iteration:\n",
    "        for k in iteration:\n",
    "            print(i, j, k)\n",
    "```\n",
    "\n",
    "Complexity - ?"
   ]
  },
  {
   "attachments": {},
   "cell_type": "markdown",
   "metadata": {},
   "source": [
    "### Factorial \n",
    "\n",
    "```python\n",
    "def factorial(n: int) -> int:\n",
    "    if n <= 1:\n",
    "        return 1\n",
    "    \n",
    "    return n * factorial(n - 1)\n",
    "```\n",
    "O(1) -> 1\n",
    "\n",
    "...\n",
    "\n",
    "O(5) -> 5 * 4 * 3 * 2 * 1\n",
    "\n",
    "O(6) -> 6 * 5 * 4 * 3 * 2 * 1\n",
    "\n",
    "\n",
    "Complexity - ?"
   ]
  },
  {
   "attachments": {},
   "cell_type": "markdown",
   "metadata": {},
   "source": [
    "### Fibonacci \n",
    "\n",
    "```python\n",
    "def fibonacci(n: int) -> int:\n",
    "    if n <= 0:\n",
    "        return 0\n",
    "    if n == 1:\n",
    "        return 1\n",
    "    \n",
    "    return fibonacci(n - 2) + fibonacci(n - 1);\n",
    "```\n",
    "\n",
    "![fib](https://i.stack.imgur.com/6hD41.png)\n",
    "\n",
    "Complexity - O(2 ^ n)"
   ]
  },
  {
   "attachments": {},
   "cell_type": "markdown",
   "metadata": {},
   "source": [
    "# Practice\n",
    "\n",
    "**You have 100 cats.**\n",
    "\n",
    "One day you decide to arrange all your cats in a giant circle. Initially, none of your cats have any hats on. You walk around the circle 100 times, always starting at the same spot, with the first cat (cat # 1). Every time you stop at a cat, you either put a hat on it if it doesn’t have one on, or you take its hat off if it has one on.\n",
    "1. The first round, you stop at every cat, placing a hat on each one.\n",
    "2. The second round, you only stop at every second cat (#2, #4, #6, #8, etc.).\n",
    "3. The third round, you only stop at every third cat(#3, #6, #9, #12, etc.).\n",
    "4. You continue this process until you’ve made 100 rounds around the cats (e.g., you only visit the 100th cat).\n",
    "Write a program that simply outputs which cats have hats at the end.\n",
    "\n",
    "Optional: Make function that can calculate hat with any amount of rounds and cats.\n",
    "\n",
    "Here you should write an algorithm, after that, try to make pseudo code. Only after that start to work. Code is simple here, but you might struggle with algorithm. Therefore don`t try to write a code from the first attempt. Don't forget to calculate complexity of your algorithm.\n",
    "\n",
    "*Homework should be uploaded at GitHub.com*\n",
    "*Result of this HW should be a link to your GitHub code*\n",
    "*To learn how to work in Git, read first three chapters of this book:*\n",
    "[GIT book](https://git-scm.com/book/en/v2)\n"
   ]
  },
  {
   "attachments": {},
   "cell_type": "markdown",
   "metadata": {},
   "source": [
    "# Materials\n",
    "\n",
    "## Complexity\n",
    "\n",
    "1. [Complexity](https://medium.com/fintechexplained/time-complexities-of-python-data-structures-ddb7503790ef)\n",
    "\n",
    "\n",
    "## Hash function and dict\n",
    "\n",
    "1. [Dictionary in Python](https://realpython.com/python-hash-table/)\n"
   ]
  }
 ],
 "metadata": {
  "kernelspec": {
   "display_name": "Python 3.9.13 64-bit",
   "language": "python",
   "name": "python3"
  },
  "language_info": {
   "codemirror_mode": {
    "name": "ipython",
    "version": 3
   },
   "file_extension": ".py",
   "mimetype": "text/x-python",
   "name": "python",
   "nbconvert_exporter": "python",
   "pygments_lexer": "ipython3",
   "version": "3.9.6"
  },
  "orig_nbformat": 4,
  "vscode": {
   "interpreter": {
    "hash": "397704579725e15f5c7cb49fe5f0341eb7531c82d19f2c29d197e8b64ab5776b"
   }
  }
 },
 "nbformat": 4,
 "nbformat_minor": 2
}
